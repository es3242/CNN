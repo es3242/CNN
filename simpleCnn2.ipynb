{
 "cells": [
  {
   "cell_type": "code",
   "execution_count": 105,
   "id": "c2da628d",
   "metadata": {},
   "outputs": [
    {
     "data": {
      "text/plain": [
       "False"
      ]
     },
     "execution_count": 105,
     "metadata": {},
     "output_type": "execute_result"
    }
   ],
   "source": [
    "import tensorflow as tf\n",
    "from tensorflow import keras\n",
    "import torch\n",
    "torch.cuda.is_available()"
   ]
  },
  {
   "cell_type": "code",
   "execution_count": 97,
   "id": "b74d8962",
   "metadata": {},
   "outputs": [],
   "source": [
    "tf.keras.datasets.mnist.load_data(path=\"mnist.npz\")\n",
    "(x_train, y_train), (x_test, y_test) = keras.datasets.mnist.load_data()"
   ]
  },
  {
   "cell_type": "code",
   "execution_count": 98,
   "id": "ed7319b9",
   "metadata": {},
   "outputs": [],
   "source": [
    "x_train, x_test = x_train / 255.0, x_test / 255.0"
   ]
  },
  {
   "cell_type": "code",
   "execution_count": 99,
   "id": "29a83138",
   "metadata": {},
   "outputs": [],
   "source": [
    "x_train = x_train.reshape((60000,1, 28,28))\n",
    "x_test = x_test.reshape((10000, 1 , 28, 28))\n",
    "y_train = y_train.reshape((60000, 1,1,1))\n",
    "y_test = y_test.reshape((10000, 1,1,1))"
   ]
  },
  {
   "cell_type": "code",
   "execution_count": 100,
   "id": "d645661c",
   "metadata": {},
   "outputs": [],
   "source": [
    "x_train = torch.from_numpy(x_train)\n",
    "x_test = torch.from_numpy(x_test)\n",
    "y_train = torch.from_numpy(y_train)\n",
    "y_test = torch.from_numpy(y_test)"
   ]
  },
  {
   "cell_type": "code",
   "execution_count": 101,
   "id": "738c4a44",
   "metadata": {},
   "outputs": [
    {
     "data": {
      "text/plain": [
       "device(type='cpu')"
      ]
     },
     "execution_count": 101,
     "metadata": {},
     "output_type": "execute_result"
    }
   ],
   "source": [
    "x_train.device"
   ]
  },
  {
   "cell_type": "code",
   "execution_count": 104,
   "id": "4036e775",
   "metadata": {},
   "outputs": [
    {
     "data": {
      "text/plain": [
       "False"
      ]
     },
     "execution_count": 104,
     "metadata": {},
     "output_type": "execute_result"
    }
   ],
   "source": [
    "torch.cuda.is_available()"
   ]
  },
  {
   "cell_type": "code",
   "execution_count": 103,
   "id": "baa442fd",
   "metadata": {},
   "outputs": [
    {
     "ename": "AssertionError",
     "evalue": "Torch not compiled with CUDA enabled",
     "output_type": "error",
     "traceback": [
      "\u001b[1;31m---------------------------------------------------------------------------\u001b[0m",
      "\u001b[1;31mAssertionError\u001b[0m                            Traceback (most recent call last)",
      "Cell \u001b[1;32mIn[103], line 1\u001b[0m\n\u001b[1;32m----> 1\u001b[0m x_train \u001b[39m=\u001b[39m x_train\u001b[39m.\u001b[39;49mto(torch\u001b[39m.\u001b[39;49mdevice(\u001b[39m'\u001b[39;49m\u001b[39mcuda\u001b[39;49m\u001b[39m'\u001b[39;49m))\n\u001b[0;32m      2\u001b[0m x_test \u001b[39m=\u001b[39m x_test\u001b[39m.\u001b[39mto(torch\u001b[39m.\u001b[39mdevice(\u001b[39m'\u001b[39m\u001b[39mcuda\u001b[39m\u001b[39m'\u001b[39m))\n\u001b[0;32m      3\u001b[0m y_train \u001b[39m=\u001b[39m y_train\u001b[39m.\u001b[39mto(torch\u001b[39m.\u001b[39mdevice(\u001b[39m'\u001b[39m\u001b[39mcuda\u001b[39m\u001b[39m'\u001b[39m))\n",
      "File \u001b[1;32mc:\\Users\\cpfld\\AppData\\Local\\Programs\\Python\\Python311\\Lib\\site-packages\\torch\\cuda\\__init__.py:239\u001b[0m, in \u001b[0;36m_lazy_init\u001b[1;34m()\u001b[0m\n\u001b[0;32m    235\u001b[0m     \u001b[39mraise\u001b[39;00m \u001b[39mRuntimeError\u001b[39;00m(\n\u001b[0;32m    236\u001b[0m         \u001b[39m\"\u001b[39m\u001b[39mCannot re-initialize CUDA in forked subprocess. To use CUDA with \u001b[39m\u001b[39m\"\u001b[39m\n\u001b[0;32m    237\u001b[0m         \u001b[39m\"\u001b[39m\u001b[39mmultiprocessing, you must use the \u001b[39m\u001b[39m'\u001b[39m\u001b[39mspawn\u001b[39m\u001b[39m'\u001b[39m\u001b[39m start method\u001b[39m\u001b[39m\"\u001b[39m)\n\u001b[0;32m    238\u001b[0m \u001b[39mif\u001b[39;00m \u001b[39mnot\u001b[39;00m \u001b[39mhasattr\u001b[39m(torch\u001b[39m.\u001b[39m_C, \u001b[39m'\u001b[39m\u001b[39m_cuda_getDeviceCount\u001b[39m\u001b[39m'\u001b[39m):\n\u001b[1;32m--> 239\u001b[0m     \u001b[39mraise\u001b[39;00m \u001b[39mAssertionError\u001b[39;00m(\u001b[39m\"\u001b[39m\u001b[39mTorch not compiled with CUDA enabled\u001b[39m\u001b[39m\"\u001b[39m)\n\u001b[0;32m    240\u001b[0m \u001b[39mif\u001b[39;00m _cudart \u001b[39mis\u001b[39;00m \u001b[39mNone\u001b[39;00m:\n\u001b[0;32m    241\u001b[0m     \u001b[39mraise\u001b[39;00m \u001b[39mAssertionError\u001b[39;00m(\n\u001b[0;32m    242\u001b[0m         \u001b[39m\"\u001b[39m\u001b[39mlibcudart functions unavailable. It looks like you have a broken build?\u001b[39m\u001b[39m\"\u001b[39m)\n",
      "\u001b[1;31mAssertionError\u001b[0m: Torch not compiled with CUDA enabled"
     ]
    }
   ],
   "source": [
    "x_train = x_train.to(torch.device('cuda'))\n",
    "x_test = x_test.to(torch.device('cuda'))\n",
    "y_train = y_train.to(torch.device('cuda'))\n",
    "y_test = y_test.to(torch.device('cuda'))\n",
    "\n"
   ]
  },
  {
   "cell_type": "markdown",
   "id": "2f5b1cea",
   "metadata": {},
   "source": [
    "<h2>가중치,편향등 변수 초기화"
   ]
  },
  {
   "cell_type": "code",
   "execution_count": null,
   "id": "1df0592a",
   "metadata": {},
   "outputs": [],
   "source": [
    "import numpy as np\n",
    "\n",
    "#test_x = np.ones((1,1,28,28))\n",
    "\n",
    "kernel1 = np.ones((5,10,10))\n",
    "kernel2 = np.ones((10,5,5))\n",
    "w1 = np.ones((2250,160))\n",
    "w2 = np.ones((160,10))\n",
    "\n",
    "b1 = np.ones((5))\n",
    "b2 = np.ones((10))\n",
    "b3 = np.ones((160))\n",
    "b4 = np.ones((10))"
   ]
  },
  {
   "cell_type": "markdown",
   "id": "5c3d9da1",
   "metadata": {},
   "source": [
    "<h2>함수 정의"
   ]
  },
  {
   "attachments": {},
   "cell_type": "markdown",
   "id": "bae31b10",
   "metadata": {},
   "source": [
    "<h5>탄젠트 함수"
   ]
  },
  {
   "cell_type": "code",
   "execution_count": null,
   "id": "9bd27281",
   "metadata": {},
   "outputs": [],
   "source": [
    "def tahn(x):\n",
    "    return (np.exp(x) - np.exp(-x)) / (np.exp(x) + np.exp(-x))"
   ]
  },
  {
   "attachments": {},
   "cell_type": "markdown",
   "id": "29558006",
   "metadata": {},
   "source": [
    "<h5>컨볼루션 연산 함수"
   ]
  },
  {
   "cell_type": "code",
   "execution_count": null,
   "id": "97e24ffc",
   "metadata": {},
   "outputs": [],
   "source": [
    "def conv2D(input,kernel,strides):\n",
    "    datasize,x_channel,x_width,x_height = input.shape\n",
    "\n",
    "    kernels,kernel_height,kernel_width = kernel.shape\n",
    "    \n",
    "    result_height = (x_height - kernel_height) // strides + 1\n",
    "    result_width = (x_width - kernel_width) // strides + 1\n",
    "\n",
    "    result = np.zeros((datasize, kernels, result_height, result_width))\n",
    "\n",
    "    for i in range(datasize):\n",
    "        for j in range(kernels):\n",
    "            for k in range(x_channel):\n",
    "                for l in range(result_height):\n",
    "                    for n in range(result_width):\n",
    "                        h_start = l * strides\n",
    "                        h_end = h_start + kernel_height\n",
    "                        w_start = n * strides\n",
    "                        w_end = w_start + kernel_width\n",
    "                        result[i, j, l, n] += np.sum(input[i, k, h_start:h_end, w_start:w_end] * kernel[j, k])\n",
    "    return result\n",
    "                                                                        "
   ]
  },
  {
   "attachments": {},
   "cell_type": "markdown",
   "id": "9f474b5f",
   "metadata": {},
   "source": [
    "<h5> 밀집층 함수"
   ]
  },
  {
   "cell_type": "code",
   "execution_count": null,
   "id": "47305bef",
   "metadata": {},
   "outputs": [
    {
     "name": "stdout",
     "output_type": "stream",
     "text": [
      "[8 9]\n"
     ]
    }
   ],
   "source": [
    "def dense(input, weight, bias):\n",
    "    output_size = len(weight[1])\n",
    "    output = np.zeros((output_size))\n",
    "    output = np.dot(input, weight)\n",
    "\n",
    "    for i in range(output_size):\n",
    "        output[i] = tahn(output[i])\n",
    "    output += bias\n",
    "\n",
    "    return output\n"
   ]
  },
  {
   "cell_type": "code",
   "execution_count": null,
   "id": "b90211c2",
   "metadata": {},
   "outputs": [
    {
     "name": "stdout",
     "output_type": "stream",
     "text": [
      "(10000, 5, 19, 19)\n",
      "(10000, 10, 8, 8)\n",
      "(6400000,)\n"
     ]
    }
   ],
   "source": [
    "result = conv2D(x_test,kernel1,1)\n",
    "print(result.shape)\n",
    "result = conv2D(result,kernel2,2)\n",
    "print(result.shape)\n",
    "result = result.flatten()\n",
    "print(result.shape)\n",
    "\n",
    "# result = dense(result,w1,b3)\n",
    "# print(result.size)\n",
    "\n"
   ]
  },
  {
   "cell_type": "markdown",
   "id": "a35ab3a0",
   "metadata": {},
   "source": [
    "<h1>모델 구성"
   ]
  },
  {
   "cell_type": "code",
   "execution_count": null,
   "id": "dd074e54",
   "metadata": {},
   "outputs": [
    {
     "name": "stdout",
     "output_type": "stream",
     "text": [
      "1875/1875 [==============================] - 2s 938us/step - loss: 0.8918 - accuracy: 0.7154\n"
     ]
    },
    {
     "data": {
      "text/plain": [
       "<keras.callbacks.History at 0x1e94f716390>"
      ]
     },
     "execution_count": 11,
     "metadata": {},
     "output_type": "execute_result"
    }
   ],
   "source": [
    "model = tf.keras.Sequential([ \n",
    "tf.keras.layers.Reshape((28,28,1), input_shape=(28,28)),\n",
    "tf.keras.layers.Conv2D(3,7,strides=4,activation=\"relu\",padding=\"same\", input_shape=[28,28,1]),\n",
    "tf.keras.layers.MaxPooling2D(2),\n",
    "tf.keras.layers.Flatten(),\n",
    "tf.keras.layers.Dense(16,activation=\"relu\"),\n",
    "tf.keras.layers.Dense(10,activation=\"softmax\")\n",
    "])\n",
    "\n",
    "model.compile(optimizer='adam',\n",
    "              loss='sparse_categorical_crossentropy',\n",
    "              metrics=['accuracy'])\n",
    "model.fit(x_train, y_train)\n"
   ]
  },
  {
   "cell_type": "code",
   "execution_count": null,
   "id": "4516d11c",
   "metadata": {},
   "outputs": [
    {
     "name": "stdout",
     "output_type": "stream",
     "text": [
      "1875/1875 [==============================] - 10s 5ms/step - loss: 0.2353 - accuracy: 0.9295\n"
     ]
    },
    {
     "data": {
      "text/plain": [
       "<keras.callbacks.History at 0x1e9517ee310>"
      ]
     },
     "execution_count": 12,
     "metadata": {},
     "output_type": "execute_result"
    }
   ],
   "source": [
    "model = tf.keras.models.Sequential([\n",
    "  tf.keras.layers.Reshape((28,28,1), input_shape=(28,28)),\n",
    "  tf.keras.layers.Conv2D(filters=10, kernel_size=(3,3),data_format=\"channels_last\"),\n",
    "  tf.keras.layers.Flatten(),\n",
    "  tf.keras.layers.Dense(128, activation='relu'),\n",
    "  tf.keras.layers.Dropout(0.2),\n",
    "  tf.keras.layers.Dense(10, activation='softmax')\n",
    "])\n",
    "\n",
    "model.compile(optimizer='adam',\n",
    "              loss='sparse_categorical_crossentropy',\n",
    "              metrics=['accuracy'])\n",
    "model.fit(x_train, y_train)\n"
   ]
  },
  {
   "cell_type": "code",
   "execution_count": null,
   "id": "acc47d2d",
   "metadata": {},
   "outputs": [],
   "source": [
    "x_train = x_train.reshape((60000, 28, 28, 1))\n",
    "x_test = x_test.reshape((10000, 28, 28, 1))\n",
    "y_train = y_train.reshape((60000, 1,1,1))\n",
    "y_test = y_test.reshape((10000, 1,1,1))"
   ]
  },
  {
   "cell_type": "code",
   "execution_count": null,
   "id": "47ff23e7",
   "metadata": {},
   "outputs": [
    {
     "name": "stdout",
     "output_type": "stream",
     "text": [
      "1875/1875 [==============================] - 8s 4ms/step - loss: 0.2281 - accuracy: 0.9311\n"
     ]
    },
    {
     "data": {
      "text/plain": [
       "<keras.callbacks.History at 0x1e97075b690>"
      ]
     },
     "execution_count": 17,
     "metadata": {},
     "output_type": "execute_result"
    }
   ],
   "source": [
    "model = tf.keras.Sequential([\n",
    "    tf.keras.layers.Reshape((28,28,1), input_shape=(28,28)),\n",
    "    tf.keras.layers.ZeroPadding2D(padding=2),\n",
    "    tf.keras.layers.Conv2D(filters=6,kernel_size=5,strides=1,activation=\"tanh\",padding=\"valid\"),\n",
    "    tf.keras.layers.AveragePooling2D(pool_size=(2, 2),strides=2),\n",
    "    tf.keras.layers.Conv2D(filters=16,kernel_size=5,strides=1,activation=\"tanh\",padding=\"valid\"),                       \n",
    "    tf.keras.layers.AveragePooling2D(pool_size=(2, 2),strides=2),    \n",
    "    tf.keras.layers.Conv2D(filters=120,kernel_size=5,strides=1,activation=\"tanh\",padding=\"valid\"),\n",
    "    tf.keras.layers.Dense(84,activation=\"tanh\"),\n",
    "    tf.keras.layers.Dense(10,activation=\"softmax\")\n",
    "    ])\n",
    "\n",
    "model.compile(optimizer='adam',loss='sparse_categorical_crossentropy',metrics=['accuracy']),\n",
    "model.fit(x_train, y_train)"
   ]
  },
  {
   "cell_type": "code",
   "execution_count": null,
   "id": "281ed83c",
   "metadata": {},
   "outputs": [
    {
     "name": "stdout",
     "output_type": "stream",
     "text": [
      "313/313 - 1s - loss: 0.0945 - accuracy: 0.9718 - 687ms/epoch - 2ms/step\n",
      "테스트 정확도 : 97\n"
     ]
    }
   ],
   "source": [
    "test_loss, test_acc = model.evaluate(x_test,  y_test, verbose=2)\n",
    "print(\"테스트 정확도 : %d\" %(test_acc*100))"
   ]
  },
  {
   "cell_type": "code",
   "execution_count": null,
   "id": "f170d8ca",
   "metadata": {},
   "outputs": [
    {
     "name": "stdout",
     "output_type": "stream",
     "text": [
      "(60000, 1, 1, 10) (60000, 1, 1, 1)\n"
     ]
    }
   ],
   "source": [
    "print(y.shape,y_train.shape)"
   ]
  },
  {
   "cell_type": "code",
   "execution_count": null,
   "id": "1642f6d3",
   "metadata": {},
   "outputs": [
    {
     "name": "stdout",
     "output_type": "stream",
     "text": [
      "[[[2.2964303e-05 2.2208309e-04 6.3666203e-06 3.4293845e-02 7.2778594e-06\n",
      "   9.6467173e-01 2.0611154e-05 6.6860630e-05 3.3428002e-04 3.5394510e-04]]]\n"
     ]
    }
   ],
   "source": [
    "print(y[0])"
   ]
  },
  {
   "cell_type": "code",
   "execution_count": null,
   "id": "275bcc36",
   "metadata": {},
   "outputs": [
    {
     "name": "stdout",
     "output_type": "stream",
     "text": [
      "1875/1875 [==============================] - 4s 2ms/step\n",
      "(60000, 1, 1, 10) (60000, 28, 28, 1)\n"
     ]
    }
   ],
   "source": [
    "y=model.predict(x_train)\n",
    "print(y.shape,x_train.shape)"
   ]
  },
  {
   "cell_type": "code",
   "execution_count": null,
   "id": "5961b4e6",
   "metadata": {},
   "outputs": [
    {
     "name": "stdout",
     "output_type": "stream",
     "text": [
      "[[[5.8902242e-05 3.2386612e-05 9.3773393e-05 2.9462626e-02 6.8596560e-06\n",
      "   9.6922696e-01 6.5715773e-05 3.9365950e-05 6.1171700e-04 4.0169200e-04]]]\n"
     ]
    }
   ],
   "source": [
    "print(y[0])"
   ]
  }
 ],
 "metadata": {
  "kernelspec": {
   "display_name": "Python 3 (ipykernel)",
   "language": "python",
   "name": "python3"
  },
  "language_info": {
   "codemirror_mode": {
    "name": "ipython",
    "version": 3
   },
   "file_extension": ".py",
   "mimetype": "text/x-python",
   "name": "python",
   "nbconvert_exporter": "python",
   "pygments_lexer": "ipython3",
   "version": "3.11.2"
  }
 },
 "nbformat": 4,
 "nbformat_minor": 5
}
