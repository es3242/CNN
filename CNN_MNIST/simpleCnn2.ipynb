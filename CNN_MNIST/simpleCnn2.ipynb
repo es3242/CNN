{
 "cells": [
  {
   "cell_type": "code",
   "execution_count": 1,
   "id": "c2da628d",
   "metadata": {},
   "outputs": [],
   "source": [
    "import tensorflow as tf\n",
    "from tensorflow import keras\n",
    "tf.keras.datasets.mnist.load_data(path=\"mnist.npz\")\n",
    "(x_train, y_train), (x_test, y_test) = keras.datasets.mnist.load_data()"
   ]
  },
  {
   "cell_type": "code",
   "execution_count": 2,
   "id": "ed7319b9",
   "metadata": {},
   "outputs": [],
   "source": [
    "x_train, x_test = x_train / 255.0, x_test / 255.0"
   ]
  },
  {
   "cell_type": "code",
   "execution_count": 17,
   "id": "29a83138",
   "metadata": {},
   "outputs": [],
   "source": [
    "x_train.reshape((60000,1,28,28))\n",
    "x_test = x_test.reshape((10000, 1 , 28, 28))\n",
    "y_train = y_train.reshape((60000, 1,1,1))\n",
    "y_test = y_test.reshape((10000, 1,1,1))"
   ]
  },
  {
   "cell_type": "markdown",
   "id": "2f5b1cea",
   "metadata": {},
   "source": [
    "<h2>가중치,편향등 변수 초기화"
   ]
  },
  {
   "cell_type": "code",
   "execution_count": 20,
   "id": "1df0592a",
   "metadata": {},
   "outputs": [],
   "source": [
    "import numpy as np\n",
    "\n",
    "test_x = np.ones((1,1,28,28))\n",
    "\n",
    "kernel1 = np.ones((1,5,10,10))\n",
    "kernel2 = np.ones((5,10,5,5))\n",
    "w1 = np.ones((160,16))\n",
    "w2 = np.ones((16,10))\n",
    "\n",
    "b1 = np.ones((5))\n",
    "b2 = np.ones((10))\n",
    "b3 = np.ones((16))\n",
    "\n",
    "b4 = np.ones((10))\n",
    "\n"
   ]
  },
  {
   "cell_type": "code",
   "execution_count": 31,
   "id": "794098b2",
   "metadata": {},
   "outputs": [
    {
     "data": {
      "text/plain": [
       "array([[1., 1.],\n",
       "       [1., 1.]])"
      ]
     },
     "execution_count": 31,
     "metadata": {},
     "output_type": "execute_result"
    }
   ],
   "source": [
    "test_x[0][0][2:4,2:4]"
   ]
  },
  {
   "cell_type": "code",
   "execution_count": 23,
   "id": "6d4056c9",
   "metadata": {},
   "outputs": [],
   "source": [
    "\n",
    "datasize,x_channel,x_width,x_height = test_x.shape\n",
    "\n",
    "result = np.ones((datasize,x_channel*x_channel,result_height,result_width))\n"
   ]
  },
  {
   "cell_type": "markdown",
   "id": "5c3d9da1",
   "metadata": {},
   "source": [
    "<h2>함수 정의"
   ]
  },
  {
   "cell_type": "code",
   "execution_count": 21,
   "id": "9bd27281",
   "metadata": {},
   "outputs": [],
   "source": [
    "def tahn(x):\n",
    "    return (np.exp(x) - np.exp(-x)) / (np.exp(x) + np.exp(-x))"
   ]
  },
  {
   "cell_type": "code",
   "execution_count": 36,
   "id": "97e24ffc",
   "metadata": {},
   "outputs": [
    {
     "name": "stdout",
     "output_type": "stream",
     "text": [
      "(1, 5, 19, 19)\n",
      "(1, 50, 15, 15)\n"
     ]
    }
   ],
   "source": [
    "def conv2D(input,kernel,strides):\n",
    "    datasize,x_channel,x_width,x_height = input.shape\n",
    "    kernels,kernel_height,kernel_width = kernel.shape[1:]\n",
    "    result_height = int((x_height-kernel_height)/strides + 1)\n",
    "    result_width = int((x_width-kernel_width)/strides + 1)\n",
    "    result = np.ones((datasize,kernels*x_channel,result_height,result_width))\n",
    "    for i in range(datasize):\n",
    "        for j in range(x_channel):\n",
    "            for k in range(kernels):\n",
    "                for l in range(result_height):\n",
    "                    for n in range(result_width):\n",
    "                        result[i][(j*kernels)+k][l][n] = np.sum(input[i][j][(strides*i):(strides*i+kernel_height),(strides*i):(strides*i+kernel_width)]*kernel[j][k])\n",
    "    return result\n",
    "\n",
    "result = conv2D(test_x,kernel1,1)\n",
    "print(result.shape)\n",
    "print(conv2D(result,kernel2,1).shape)\n",
    "\n"
   ]
  },
  {
   "cell_type": "markdown",
   "id": "a35ab3a0",
   "metadata": {},
   "source": [
    "<h1>모델 구성"
   ]
  },
  {
   "cell_type": "code",
   "execution_count": 11,
   "id": "dd074e54",
   "metadata": {},
   "outputs": [
    {
     "name": "stdout",
     "output_type": "stream",
     "text": [
      "1875/1875 [==============================] - 2s 938us/step - loss: 0.8918 - accuracy: 0.7154\n"
     ]
    },
    {
     "data": {
      "text/plain": [
       "<keras.callbacks.History at 0x1e94f716390>"
      ]
     },
     "execution_count": 11,
     "metadata": {},
     "output_type": "execute_result"
    }
   ],
   "source": [
    "model = tf.keras.Sequential([ \n",
    "tf.keras.layers.Reshape((28,28,1), input_shape=(28,28)),\n",
    "tf.keras.layers.Conv2D(3,7,strides=4,activation=\"relu\",padding=\"same\", input_shape=[28,28,1]),\n",
    "tf.keras.layers.MaxPooling2D(2),\n",
    "tf.keras.layers.Flatten(),\n",
    "tf.keras.layers.Dense(16,activation=\"relu\"),\n",
    "tf.keras.layers.Dense(10,activation=\"softmax\")\n",
    "])\n",
    "\n",
    "model.compile(optimizer='adam',\n",
    "              loss='sparse_categorical_crossentropy',\n",
    "              metrics=['accuracy'])\n",
    "model.fit(x_train, y_train)\n"
   ]
  },
  {
   "cell_type": "code",
   "execution_count": 12,
   "id": "4516d11c",
   "metadata": {},
   "outputs": [
    {
     "name": "stdout",
     "output_type": "stream",
     "text": [
      "1875/1875 [==============================] - 10s 5ms/step - loss: 0.2353 - accuracy: 0.9295\n"
     ]
    },
    {
     "data": {
      "text/plain": [
       "<keras.callbacks.History at 0x1e9517ee310>"
      ]
     },
     "execution_count": 12,
     "metadata": {},
     "output_type": "execute_result"
    }
   ],
   "source": [
    "model = tf.keras.models.Sequential([\n",
    "  tf.keras.layers.Reshape((28,28,1), input_shape=(28,28)),\n",
    "  tf.keras.layers.Conv2D(filters=10, kernel_size=(3,3),data_format=\"channels_last\"),\n",
    "  tf.keras.layers.Flatten(),\n",
    "  tf.keras.layers.Dense(128, activation='relu'),\n",
    "  tf.keras.layers.Dropout(0.2),\n",
    "  tf.keras.layers.Dense(10, activation='softmax')\n",
    "])\n",
    "\n",
    "model.compile(optimizer='adam',\n",
    "              loss='sparse_categorical_crossentropy',\n",
    "              metrics=['accuracy'])\n",
    "model.fit(x_train, y_train)\n"
   ]
  },
  {
   "cell_type": "code",
   "execution_count": 15,
   "id": "acc47d2d",
   "metadata": {},
   "outputs": [],
   "source": [
    "x_train = x_train.reshape((60000, 28, 28, 1))\n",
    "x_test = x_test.reshape((10000, 28, 28, 1))\n",
    "y_train = y_train.reshape((60000, 1,1,1))\n",
    "y_test = y_test.reshape((10000, 1,1,1))"
   ]
  },
  {
   "cell_type": "code",
   "execution_count": 17,
   "id": "47ff23e7",
   "metadata": {},
   "outputs": [
    {
     "name": "stdout",
     "output_type": "stream",
     "text": [
      "1875/1875 [==============================] - 8s 4ms/step - loss: 0.2281 - accuracy: 0.9311\n"
     ]
    },
    {
     "data": {
      "text/plain": [
       "<keras.callbacks.History at 0x1e97075b690>"
      ]
     },
     "execution_count": 17,
     "metadata": {},
     "output_type": "execute_result"
    }
   ],
   "source": [
    "model = tf.keras.Sequential([\n",
    "    tf.keras.layers.Reshape((28,28,1), input_shape=(28,28)),\n",
    "    tf.keras.layers.ZeroPadding2D(padding=2),\n",
    "    tf.keras.layers.Conv2D(filters=6,kernel_size=5,strides=1,activation=\"tanh\",padding=\"valid\"),\n",
    "    tf.keras.layers.AveragePooling2D(pool_size=(2, 2),strides=2),\n",
    "    tf.keras.layers.Conv2D(filters=16,kernel_size=5,strides=1,activation=\"tanh\",padding=\"valid\"),                       \n",
    "    tf.keras.layers.AveragePooling2D(pool_size=(2, 2),strides=2),    \n",
    "    tf.keras.layers.Conv2D(filters=120,kernel_size=5,strides=1,activation=\"tanh\",padding=\"valid\"),\n",
    "    tf.keras.layers.Dense(84,activation=\"tanh\"),\n",
    "    tf.keras.layers.Dense(10,activation=\"softmax\")\n",
    "    ])\n",
    "\n",
    "model.compile(optimizer='adam',loss='sparse_categorical_crossentropy',metrics=['accuracy']),\n",
    "model.fit(x_train, y_train)"
   ]
  },
  {
   "cell_type": "code",
   "execution_count": null,
   "id": "281ed83c",
   "metadata": {},
   "outputs": [
    {
     "name": "stdout",
     "output_type": "stream",
     "text": [
      "313/313 - 1s - loss: 0.0945 - accuracy: 0.9718 - 687ms/epoch - 2ms/step\n",
      "테스트 정확도 : 97\n"
     ]
    }
   ],
   "source": [
    "test_loss, test_acc = model.evaluate(x_test,  y_test, verbose=2)\n",
    "print(\"테스트 정확도 : %d\" %(test_acc*100))"
   ]
  },
  {
   "cell_type": "code",
   "execution_count": null,
   "id": "f170d8ca",
   "metadata": {},
   "outputs": [
    {
     "name": "stdout",
     "output_type": "stream",
     "text": [
      "(60000, 1, 1, 10) (60000, 1, 1, 1)\n"
     ]
    }
   ],
   "source": [
    "print(y.shape,y_train.shape)"
   ]
  },
  {
   "cell_type": "code",
   "execution_count": null,
   "id": "1642f6d3",
   "metadata": {},
   "outputs": [
    {
     "name": "stdout",
     "output_type": "stream",
     "text": [
      "[[[2.2964303e-05 2.2208309e-04 6.3666203e-06 3.4293845e-02 7.2778594e-06\n",
      "   9.6467173e-01 2.0611154e-05 6.6860630e-05 3.3428002e-04 3.5394510e-04]]]\n"
     ]
    }
   ],
   "source": [
    "print(y[0])"
   ]
  },
  {
   "cell_type": "code",
   "execution_count": null,
   "id": "275bcc36",
   "metadata": {},
   "outputs": [
    {
     "name": "stdout",
     "output_type": "stream",
     "text": [
      "1875/1875 [==============================] - 4s 2ms/step\n",
      "(60000, 1, 1, 10) (60000, 28, 28, 1)\n"
     ]
    }
   ],
   "source": [
    "y=model.predict(x_train)\n",
    "print(y.shape,x_train.shape)"
   ]
  },
  {
   "cell_type": "code",
   "execution_count": null,
   "id": "5961b4e6",
   "metadata": {},
   "outputs": [
    {
     "name": "stdout",
     "output_type": "stream",
     "text": [
      "[[[5.8902242e-05 3.2386612e-05 9.3773393e-05 2.9462626e-02 6.8596560e-06\n",
      "   9.6922696e-01 6.5715773e-05 3.9365950e-05 6.1171700e-04 4.0169200e-04]]]\n"
     ]
    }
   ],
   "source": [
    "print(y[0])"
   ]
  }
 ],
 "metadata": {
  "kernelspec": {
   "display_name": "Python 3 (ipykernel)",
   "language": "python",
   "name": "python3"
  },
  "language_info": {
   "codemirror_mode": {
    "name": "ipython",
    "version": 3
   },
   "file_extension": ".py",
   "mimetype": "text/x-python",
   "name": "python",
   "nbconvert_exporter": "python",
   "pygments_lexer": "ipython3",
   "version": "3.11.2"
  }
 },
 "nbformat": 4,
 "nbformat_minor": 5
}
